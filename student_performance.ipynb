{
  "nbformat": 4,
  "nbformat_minor": 0,
  "metadata": {
    "colab": {
      "name": "bcet.ipynb",
      "version": "0.3.2",
      "provenance": [],
      "collapsed_sections": [],
      "include_colab_link": true
    },
    "kernelspec": {
      "name": "python3",
      "display_name": "Python 3"
    },
    "accelerator": "GPU"
  },
  "cells": [
    {
      "cell_type": "markdown",
      "metadata": {
        "id": "view-in-github",
        "colab_type": "text"
      },
      "source": [
        "<a href=\"https://colab.research.google.com/github/hbr8218/machine-learning/blob/master/student_performance.ipynb\" target=\"_parent\"><img src=\"https://colab.research.google.com/assets/colab-badge.svg\" alt=\"Open In Colab\"/></a>"
      ]
    },
    {
      "cell_type": "markdown",
      "metadata": {
        "id": "WFCwk9MtLpxx",
        "colab_type": "text"
      },
      "source": [
        "# Extraploratry Data Analysis"
      ]
    },
    {
      "cell_type": "code",
      "metadata": {
        "id": "vHL8w6glLSoA",
        "colab_type": "code",
        "colab": {}
      },
      "source": [
        "import pandas as pd\n",
        "import numpy as np\n",
        "np.random.seed(43)\n",
        "\n",
        "from sklearn.metrics import accuracy_score\n",
        "from sklearn.model_selection import RandomizedSearchCV\n",
        "from sklearn.model_selection import cross_val_score\n",
        "from sklearn.model_selection import KFold\n",
        "from sklearn.ensemble import RandomForestClassifier\n",
        "from sklearn.ensemble import ExtraTreesClassifier\n",
        "\n",
        "import matplotlib.pyplot as plt\n",
        "%matplotlib inline"
      ],
      "execution_count": 0,
      "outputs": []
    },
    {
      "cell_type": "code",
      "metadata": {
        "id": "IHwZXCUfNVQA",
        "colab_type": "code",
        "colab": {}
      },
      "source": [
        "#wget https://drive.google.com/open?id=1-Uf4GuXbmZDWupSapTbeReRZejLXcrma\n"
      ],
      "execution_count": 0,
      "outputs": []
    },
    {
      "cell_type": "code",
      "metadata": {
        "id": "oVB0aZcfNS4Q",
        "colab_type": "code",
        "colab": {}
      },
      "source": [
        "from google.colab import files"
      ],
      "execution_count": 0,
      "outputs": []
    },
    {
      "cell_type": "code",
      "metadata": {
        "id": "-HaQs0zCpKPu",
        "colab_type": "code",
        "outputId": "9b3f4640-5f62-4ceb-a561-67e3c6a69ebb",
        "colab": {
          "resources": {
            "http://localhost:8080/nbextensions/google.colab/files.js": {
              "data": "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",
              "ok": true,
              "headers": [
                [
                  "content-type",
                  "application/javascript"
                ]
              ],
              "status": 200,
              "status_text": "OK"
            }
          },
          "base_uri": "https://localhost:8080/",
          "height": 80
        }
      },
      "source": [
        "my_csv = files.upload()"
      ],
      "execution_count": 0,
      "outputs": [
        {
          "output_type": "display_data",
          "data": {
            "text/html": [
              "\n",
              "     <input type=\"file\" id=\"files-3b422fa8-fa99-4c5e-b3d2-88cdb09088ce\" name=\"files[]\" multiple disabled />\n",
              "     <output id=\"result-3b422fa8-fa99-4c5e-b3d2-88cdb09088ce\">\n",
              "      Upload widget is only available when the cell has been executed in the\n",
              "      current browser session. Please rerun this cell to enable.\n",
              "      </output>\n",
              "      <script src=\"/nbextensions/google.colab/files.js\"></script> "
            ],
            "text/plain": [
              "<IPython.core.display.HTML object>"
            ]
          },
          "metadata": {
            "tags": []
          }
        },
        {
          "output_type": "stream",
          "text": [
            "Saving 2nd Sem.-2014-15.xls to 2nd Sem.-2014-15 (1).xls\n"
          ],
          "name": "stdout"
        }
      ]
    },
    {
      "cell_type": "code",
      "metadata": {
        "id": "bxo2aW1ZpUiY",
        "colab_type": "code",
        "outputId": "593e1a43-508f-479b-b415-c6170ef23c8d",
        "colab": {
          "base_uri": "https://localhost:8080/",
          "height": 293
        }
      },
      "source": [
        "df =  pd.read_excel('2nd Sem.-2014-15.xls')\n",
        "df.head()"
      ],
      "execution_count": 0,
      "outputs": [
        {
          "output_type": "execute_result",
          "data": {
            "text/html": [
              "<div>\n",
              "<style scoped>\n",
              "    .dataframe tbody tr th:only-of-type {\n",
              "        vertical-align: middle;\n",
              "    }\n",
              "\n",
              "    .dataframe tbody tr th {\n",
              "        vertical-align: top;\n",
              "    }\n",
              "\n",
              "    .dataframe thead th {\n",
              "        text-align: right;\n",
              "    }\n",
              "</style>\n",
              "<table border=\"1\" class=\"dataframe\">\n",
              "  <thead>\n",
              "    <tr style=\"text-align: right;\">\n",
              "      <th></th>\n",
              "      <th>ROLL NO.</th>\n",
              "      <th>NAME</th>\n",
              "      <th>CS201</th>\n",
              "      <th>CH201</th>\n",
              "      <th>M201</th>\n",
              "      <th>ME201</th>\n",
              "      <th>ES201</th>\n",
              "      <th>CS291</th>\n",
              "      <th>CH291</th>\n",
              "      <th>ES291</th>\n",
              "      <th>ME291</th>\n",
              "      <th>SGPA1</th>\n",
              "      <th>SGPA2</th>\n",
              "      <th>YGPA</th>\n",
              "      <th>DGPA</th>\n",
              "      <th>RESULT</th>\n",
              "    </tr>\n",
              "  </thead>\n",
              "  <tbody>\n",
              "    <tr>\n",
              "      <th>0</th>\n",
              "      <td>12500114001</td>\n",
              "      <td>ABHISHEK JAISWAL</td>\n",
              "      <td>C (24)</td>\n",
              "      <td>C (24)</td>\n",
              "      <td>D (20)</td>\n",
              "      <td>C (24)</td>\n",
              "      <td>C (24)</td>\n",
              "      <td>A (16)</td>\n",
              "      <td>A (16)</td>\n",
              "      <td>A (16)</td>\n",
              "      <td>A (24)</td>\n",
              "      <td>6.19</td>\n",
              "      <td>6.48</td>\n",
              "      <td>6.34</td>\n",
              "      <td>0</td>\n",
              "      <td>XP</td>\n",
              "    </tr>\n",
              "    <tr>\n",
              "      <th>1</th>\n",
              "      <td>12500114002</td>\n",
              "      <td>ABHISHEK SHANKAR</td>\n",
              "      <td>C (24)</td>\n",
              "      <td>D (20)</td>\n",
              "      <td>C (24)</td>\n",
              "      <td>D (20)</td>\n",
              "      <td>D (20)</td>\n",
              "      <td>E (18)</td>\n",
              "      <td>E (18)</td>\n",
              "      <td>A (16)</td>\n",
              "      <td>A (24)</td>\n",
              "      <td>6.41</td>\n",
              "      <td>6.34</td>\n",
              "      <td>6.38</td>\n",
              "      <td>0</td>\n",
              "      <td>P</td>\n",
              "    </tr>\n",
              "    <tr>\n",
              "      <th>2</th>\n",
              "      <td>12500114003</td>\n",
              "      <td>AISHWARYA</td>\n",
              "      <td>B (28)</td>\n",
              "      <td>B (28)</td>\n",
              "      <td>C (24)</td>\n",
              "      <td>B (28)</td>\n",
              "      <td>B (28)</td>\n",
              "      <td>E (18)</td>\n",
              "      <td>O (20)</td>\n",
              "      <td>A (16)</td>\n",
              "      <td>O (30)</td>\n",
              "      <td>7.37</td>\n",
              "      <td>7.59</td>\n",
              "      <td>7.48</td>\n",
              "      <td>0</td>\n",
              "      <td>P</td>\n",
              "    </tr>\n",
              "    <tr>\n",
              "      <th>3</th>\n",
              "      <td>12500114004</td>\n",
              "      <td>AJAY KUMAR</td>\n",
              "      <td>C (24)</td>\n",
              "      <td>C (24)</td>\n",
              "      <td>C (24)</td>\n",
              "      <td>A (32)</td>\n",
              "      <td>B (28)</td>\n",
              "      <td>A (16)</td>\n",
              "      <td>E (18)</td>\n",
              "      <td>A (16)</td>\n",
              "      <td>A (24)</td>\n",
              "      <td>7.74</td>\n",
              "      <td>7.10</td>\n",
              "      <td>7.41</td>\n",
              "      <td>0</td>\n",
              "      <td>P</td>\n",
              "    </tr>\n",
              "    <tr>\n",
              "      <th>4</th>\n",
              "      <td>12500114005</td>\n",
              "      <td>AKANCHA KUMARI</td>\n",
              "      <td>B (28)</td>\n",
              "      <td>A (32)</td>\n",
              "      <td>D (20)</td>\n",
              "      <td>A (32)</td>\n",
              "      <td>B (28)</td>\n",
              "      <td>E (18)</td>\n",
              "      <td>O (20)</td>\n",
              "      <td>O (20)</td>\n",
              "      <td>O (30)</td>\n",
              "      <td>7.96</td>\n",
              "      <td>7.86</td>\n",
              "      <td>7.91</td>\n",
              "      <td>0</td>\n",
              "      <td>P</td>\n",
              "    </tr>\n",
              "  </tbody>\n",
              "</table>\n",
              "</div>"
            ],
            "text/plain": [
              "      ROLL NO.              NAME   CS201   CH201  ... SGPA2  YGPA DGPA RESULT\n",
              "0  12500114001  ABHISHEK JAISWAL  C (24)  C (24)  ...  6.48  6.34    0     XP\n",
              "1  12500114002  ABHISHEK SHANKAR  C (24)  D (20)  ...  6.34  6.38    0      P\n",
              "2  12500114003         AISHWARYA  B (28)  B (28)  ...  7.59  7.48    0      P\n",
              "3  12500114004        AJAY KUMAR  C (24)  C (24)  ...  7.10  7.41    0      P\n",
              "4  12500114005    AKANCHA KUMARI  B (28)  A (32)  ...  7.86  7.91    0      P\n",
              "\n",
              "[5 rows x 16 columns]"
            ]
          },
          "metadata": {
            "tags": []
          },
          "execution_count": 7
        }
      ]
    },
    {
      "cell_type": "code",
      "metadata": {
        "id": "GcLqeZWIpbbA",
        "colab_type": "code",
        "outputId": "f56db4b7-f82b-4ffa-a5c1-2ba389dc1a6a",
        "colab": {
          "base_uri": "https://localhost:8080/",
          "height": 206
        }
      },
      "source": [
        "df = df.drop(['NAME','ROLL NO.'],axis=1)\n",
        "df.head()"
      ],
      "execution_count": 0,
      "outputs": [
        {
          "output_type": "execute_result",
          "data": {
            "text/html": [
              "<div>\n",
              "<style scoped>\n",
              "    .dataframe tbody tr th:only-of-type {\n",
              "        vertical-align: middle;\n",
              "    }\n",
              "\n",
              "    .dataframe tbody tr th {\n",
              "        vertical-align: top;\n",
              "    }\n",
              "\n",
              "    .dataframe thead th {\n",
              "        text-align: right;\n",
              "    }\n",
              "</style>\n",
              "<table border=\"1\" class=\"dataframe\">\n",
              "  <thead>\n",
              "    <tr style=\"text-align: right;\">\n",
              "      <th></th>\n",
              "      <th>CS201</th>\n",
              "      <th>CH201</th>\n",
              "      <th>M201</th>\n",
              "      <th>ME201</th>\n",
              "      <th>ES201</th>\n",
              "      <th>CS291</th>\n",
              "      <th>CH291</th>\n",
              "      <th>ES291</th>\n",
              "      <th>ME291</th>\n",
              "      <th>SGPA1</th>\n",
              "      <th>SGPA2</th>\n",
              "      <th>YGPA</th>\n",
              "      <th>DGPA</th>\n",
              "      <th>RESULT</th>\n",
              "    </tr>\n",
              "  </thead>\n",
              "  <tbody>\n",
              "    <tr>\n",
              "      <th>0</th>\n",
              "      <td>C (24)</td>\n",
              "      <td>C (24)</td>\n",
              "      <td>D (20)</td>\n",
              "      <td>C (24)</td>\n",
              "      <td>C (24)</td>\n",
              "      <td>A (16)</td>\n",
              "      <td>A (16)</td>\n",
              "      <td>A (16)</td>\n",
              "      <td>A (24)</td>\n",
              "      <td>6.19</td>\n",
              "      <td>6.48</td>\n",
              "      <td>6.34</td>\n",
              "      <td>0</td>\n",
              "      <td>XP</td>\n",
              "    </tr>\n",
              "    <tr>\n",
              "      <th>1</th>\n",
              "      <td>C (24)</td>\n",
              "      <td>D (20)</td>\n",
              "      <td>C (24)</td>\n",
              "      <td>D (20)</td>\n",
              "      <td>D (20)</td>\n",
              "      <td>E (18)</td>\n",
              "      <td>E (18)</td>\n",
              "      <td>A (16)</td>\n",
              "      <td>A (24)</td>\n",
              "      <td>6.41</td>\n",
              "      <td>6.34</td>\n",
              "      <td>6.38</td>\n",
              "      <td>0</td>\n",
              "      <td>P</td>\n",
              "    </tr>\n",
              "    <tr>\n",
              "      <th>2</th>\n",
              "      <td>B (28)</td>\n",
              "      <td>B (28)</td>\n",
              "      <td>C (24)</td>\n",
              "      <td>B (28)</td>\n",
              "      <td>B (28)</td>\n",
              "      <td>E (18)</td>\n",
              "      <td>O (20)</td>\n",
              "      <td>A (16)</td>\n",
              "      <td>O (30)</td>\n",
              "      <td>7.37</td>\n",
              "      <td>7.59</td>\n",
              "      <td>7.48</td>\n",
              "      <td>0</td>\n",
              "      <td>P</td>\n",
              "    </tr>\n",
              "    <tr>\n",
              "      <th>3</th>\n",
              "      <td>C (24)</td>\n",
              "      <td>C (24)</td>\n",
              "      <td>C (24)</td>\n",
              "      <td>A (32)</td>\n",
              "      <td>B (28)</td>\n",
              "      <td>A (16)</td>\n",
              "      <td>E (18)</td>\n",
              "      <td>A (16)</td>\n",
              "      <td>A (24)</td>\n",
              "      <td>7.74</td>\n",
              "      <td>7.10</td>\n",
              "      <td>7.41</td>\n",
              "      <td>0</td>\n",
              "      <td>P</td>\n",
              "    </tr>\n",
              "    <tr>\n",
              "      <th>4</th>\n",
              "      <td>B (28)</td>\n",
              "      <td>A (32)</td>\n",
              "      <td>D (20)</td>\n",
              "      <td>A (32)</td>\n",
              "      <td>B (28)</td>\n",
              "      <td>E (18)</td>\n",
              "      <td>O (20)</td>\n",
              "      <td>O (20)</td>\n",
              "      <td>O (30)</td>\n",
              "      <td>7.96</td>\n",
              "      <td>7.86</td>\n",
              "      <td>7.91</td>\n",
              "      <td>0</td>\n",
              "      <td>P</td>\n",
              "    </tr>\n",
              "  </tbody>\n",
              "</table>\n",
              "</div>"
            ],
            "text/plain": [
              "    CS201   CH201    M201   ME201   ES201  ... SGPA1 SGPA2  YGPA DGPA  RESULT\n",
              "0  C (24)  C (24)  D (20)  C (24)  C (24)  ...  6.19  6.48  6.34    0      XP\n",
              "1  C (24)  D (20)  C (24)  D (20)  D (20)  ...  6.41  6.34  6.38    0       P\n",
              "2  B (28)  B (28)  C (24)  B (28)  B (28)  ...  7.37  7.59  7.48    0       P\n",
              "3  C (24)  C (24)  C (24)  A (32)  B (28)  ...  7.74  7.10  7.41    0       P\n",
              "4  B (28)  A (32)  D (20)  A (32)  B (28)  ...  7.96  7.86  7.91    0       P\n",
              "\n",
              "[5 rows x 14 columns]"
            ]
          },
          "metadata": {
            "tags": []
          },
          "execution_count": 8
        }
      ]
    },
    {
      "cell_type": "code",
      "metadata": {
        "id": "77DcqBnN7CNR",
        "colab_type": "code",
        "colab": {}
      },
      "source": [
        "# extract digit from grade feature columns\n",
        "def extract_digit(x):\n",
        "  z = int(''.join(list(filter(lambda i:i.isdigit(),list(x)))))\n",
        "  return z\n"
      ],
      "execution_count": 0,
      "outputs": []
    },
    {
      "cell_type": "code",
      "metadata": {
        "id": "fqxmhEsKGOW0",
        "colab_type": "code",
        "colab": {}
      },
      "source": [
        "\n",
        "grade_features = ['CS201','CH201','M201','ME201','ES201','CH291','CS291','ES291','ME291']\n",
        "\n",
        "for var in grade_features:\n",
        "  df[var] = df[var].apply(extract_digit)\n",
        "    "
      ],
      "execution_count": 0,
      "outputs": []
    },
    {
      "cell_type": "code",
      "metadata": {
        "id": "n2p4B6jjAsPT",
        "colab_type": "code",
        "outputId": "022616f0-e38d-4e75-bd8d-6c8c76ebd924",
        "colab": {
          "base_uri": "https://localhost:8080/",
          "height": 206
        }
      },
      "source": [
        "df.head()"
      ],
      "execution_count": 0,
      "outputs": [
        {
          "output_type": "execute_result",
          "data": {
            "text/html": [
              "<div>\n",
              "<style scoped>\n",
              "    .dataframe tbody tr th:only-of-type {\n",
              "        vertical-align: middle;\n",
              "    }\n",
              "\n",
              "    .dataframe tbody tr th {\n",
              "        vertical-align: top;\n",
              "    }\n",
              "\n",
              "    .dataframe thead th {\n",
              "        text-align: right;\n",
              "    }\n",
              "</style>\n",
              "<table border=\"1\" class=\"dataframe\">\n",
              "  <thead>\n",
              "    <tr style=\"text-align: right;\">\n",
              "      <th></th>\n",
              "      <th>CS201</th>\n",
              "      <th>CH201</th>\n",
              "      <th>M201</th>\n",
              "      <th>ME201</th>\n",
              "      <th>ES201</th>\n",
              "      <th>CS291</th>\n",
              "      <th>CH291</th>\n",
              "      <th>ES291</th>\n",
              "      <th>ME291</th>\n",
              "      <th>SGPA1</th>\n",
              "      <th>SGPA2</th>\n",
              "      <th>YGPA</th>\n",
              "      <th>DGPA</th>\n",
              "      <th>RESULT</th>\n",
              "    </tr>\n",
              "  </thead>\n",
              "  <tbody>\n",
              "    <tr>\n",
              "      <th>0</th>\n",
              "      <td>24</td>\n",
              "      <td>24</td>\n",
              "      <td>20</td>\n",
              "      <td>24</td>\n",
              "      <td>24</td>\n",
              "      <td>16</td>\n",
              "      <td>16</td>\n",
              "      <td>16</td>\n",
              "      <td>24</td>\n",
              "      <td>6.19</td>\n",
              "      <td>6.48</td>\n",
              "      <td>6.34</td>\n",
              "      <td>0</td>\n",
              "      <td>XP</td>\n",
              "    </tr>\n",
              "    <tr>\n",
              "      <th>1</th>\n",
              "      <td>24</td>\n",
              "      <td>20</td>\n",
              "      <td>24</td>\n",
              "      <td>20</td>\n",
              "      <td>20</td>\n",
              "      <td>18</td>\n",
              "      <td>18</td>\n",
              "      <td>16</td>\n",
              "      <td>24</td>\n",
              "      <td>6.41</td>\n",
              "      <td>6.34</td>\n",
              "      <td>6.38</td>\n",
              "      <td>0</td>\n",
              "      <td>P</td>\n",
              "    </tr>\n",
              "    <tr>\n",
              "      <th>2</th>\n",
              "      <td>28</td>\n",
              "      <td>28</td>\n",
              "      <td>24</td>\n",
              "      <td>28</td>\n",
              "      <td>28</td>\n",
              "      <td>18</td>\n",
              "      <td>20</td>\n",
              "      <td>16</td>\n",
              "      <td>30</td>\n",
              "      <td>7.37</td>\n",
              "      <td>7.59</td>\n",
              "      <td>7.48</td>\n",
              "      <td>0</td>\n",
              "      <td>P</td>\n",
              "    </tr>\n",
              "    <tr>\n",
              "      <th>3</th>\n",
              "      <td>24</td>\n",
              "      <td>24</td>\n",
              "      <td>24</td>\n",
              "      <td>32</td>\n",
              "      <td>28</td>\n",
              "      <td>16</td>\n",
              "      <td>18</td>\n",
              "      <td>16</td>\n",
              "      <td>24</td>\n",
              "      <td>7.74</td>\n",
              "      <td>7.10</td>\n",
              "      <td>7.41</td>\n",
              "      <td>0</td>\n",
              "      <td>P</td>\n",
              "    </tr>\n",
              "    <tr>\n",
              "      <th>4</th>\n",
              "      <td>28</td>\n",
              "      <td>32</td>\n",
              "      <td>20</td>\n",
              "      <td>32</td>\n",
              "      <td>28</td>\n",
              "      <td>18</td>\n",
              "      <td>20</td>\n",
              "      <td>20</td>\n",
              "      <td>30</td>\n",
              "      <td>7.96</td>\n",
              "      <td>7.86</td>\n",
              "      <td>7.91</td>\n",
              "      <td>0</td>\n",
              "      <td>P</td>\n",
              "    </tr>\n",
              "  </tbody>\n",
              "</table>\n",
              "</div>"
            ],
            "text/plain": [
              "   CS201  CH201  M201  ME201  ES201  ...  SGPA1  SGPA2  YGPA  DGPA  RESULT\n",
              "0     24     24    20     24     24  ...   6.19   6.48  6.34     0      XP\n",
              "1     24     20    24     20     20  ...   6.41   6.34  6.38     0       P\n",
              "2     28     28    24     28     28  ...   7.37   7.59  7.48     0       P\n",
              "3     24     24    24     32     28  ...   7.74   7.10  7.41     0       P\n",
              "4     28     32    20     32     28  ...   7.96   7.86  7.91     0       P\n",
              "\n",
              "[5 rows x 14 columns]"
            ]
          },
          "metadata": {
            "tags": []
          },
          "execution_count": 11
        }
      ]
    },
    {
      "cell_type": "code",
      "metadata": {
        "id": "qQhaPLRbLpgF",
        "colab_type": "code",
        "colab": {}
      },
      "source": [
        ""
      ],
      "execution_count": 0,
      "outputs": []
    },
    {
      "cell_type": "code",
      "metadata": {
        "id": "h905vCrsBhDy",
        "colab_type": "code",
        "colab": {}
      },
      "source": [
        "from collections import Counter"
      ],
      "execution_count": 0,
      "outputs": []
    },
    {
      "cell_type": "code",
      "metadata": {
        "id": "i4uDbakyLe1w",
        "colab_type": "code",
        "outputId": "cdde07f1-a0db-4e9b-e165-062b6946603e",
        "colab": {
          "base_uri": "https://localhost:8080/",
          "height": 34
        }
      },
      "source": [
        "print(Counter(df['RESULT']).items())"
      ],
      "execution_count": 0,
      "outputs": [
        {
          "output_type": "stream",
          "text": [
            "dict_items([('XP', 99), ('P', 218)])\n"
          ],
          "name": "stdout"
        }
      ]
    },
    {
      "cell_type": "code",
      "metadata": {
        "id": "nzkBXP6SMJqo",
        "colab_type": "code",
        "colab": {}
      },
      "source": [
        "# replacing XP by 0 and P by 1\n",
        "def replace(x):\n",
        "  return 0 if x == 'XP' else 1\n",
        "\n",
        "df['RESULT'] = df['RESULT'].apply(replace)"
      ],
      "execution_count": 0,
      "outputs": []
    },
    {
      "cell_type": "code",
      "metadata": {
        "id": "6-UT0Cs_M0xj",
        "colab_type": "code",
        "outputId": "33057b63-4f6c-48b7-c8d9-41f64115d78b",
        "colab": {
          "base_uri": "https://localhost:8080/",
          "height": 206
        }
      },
      "source": [
        "\n",
        "\n",
        "df_Y = df.pop('RESULT')\n",
        "df.head()\n"
      ],
      "execution_count": 0,
      "outputs": [
        {
          "output_type": "execute_result",
          "data": {
            "text/html": [
              "<div>\n",
              "<style scoped>\n",
              "    .dataframe tbody tr th:only-of-type {\n",
              "        vertical-align: middle;\n",
              "    }\n",
              "\n",
              "    .dataframe tbody tr th {\n",
              "        vertical-align: top;\n",
              "    }\n",
              "\n",
              "    .dataframe thead th {\n",
              "        text-align: right;\n",
              "    }\n",
              "</style>\n",
              "<table border=\"1\" class=\"dataframe\">\n",
              "  <thead>\n",
              "    <tr style=\"text-align: right;\">\n",
              "      <th></th>\n",
              "      <th>CS201</th>\n",
              "      <th>CH201</th>\n",
              "      <th>M201</th>\n",
              "      <th>ME201</th>\n",
              "      <th>ES201</th>\n",
              "      <th>CS291</th>\n",
              "      <th>CH291</th>\n",
              "      <th>ES291</th>\n",
              "      <th>ME291</th>\n",
              "      <th>SGPA1</th>\n",
              "      <th>SGPA2</th>\n",
              "      <th>YGPA</th>\n",
              "      <th>DGPA</th>\n",
              "    </tr>\n",
              "  </thead>\n",
              "  <tbody>\n",
              "    <tr>\n",
              "      <th>0</th>\n",
              "      <td>24</td>\n",
              "      <td>24</td>\n",
              "      <td>20</td>\n",
              "      <td>24</td>\n",
              "      <td>24</td>\n",
              "      <td>16</td>\n",
              "      <td>16</td>\n",
              "      <td>16</td>\n",
              "      <td>24</td>\n",
              "      <td>6.19</td>\n",
              "      <td>6.48</td>\n",
              "      <td>6.34</td>\n",
              "      <td>0</td>\n",
              "    </tr>\n",
              "    <tr>\n",
              "      <th>1</th>\n",
              "      <td>24</td>\n",
              "      <td>20</td>\n",
              "      <td>24</td>\n",
              "      <td>20</td>\n",
              "      <td>20</td>\n",
              "      <td>18</td>\n",
              "      <td>18</td>\n",
              "      <td>16</td>\n",
              "      <td>24</td>\n",
              "      <td>6.41</td>\n",
              "      <td>6.34</td>\n",
              "      <td>6.38</td>\n",
              "      <td>0</td>\n",
              "    </tr>\n",
              "    <tr>\n",
              "      <th>2</th>\n",
              "      <td>28</td>\n",
              "      <td>28</td>\n",
              "      <td>24</td>\n",
              "      <td>28</td>\n",
              "      <td>28</td>\n",
              "      <td>18</td>\n",
              "      <td>20</td>\n",
              "      <td>16</td>\n",
              "      <td>30</td>\n",
              "      <td>7.37</td>\n",
              "      <td>7.59</td>\n",
              "      <td>7.48</td>\n",
              "      <td>0</td>\n",
              "    </tr>\n",
              "    <tr>\n",
              "      <th>3</th>\n",
              "      <td>24</td>\n",
              "      <td>24</td>\n",
              "      <td>24</td>\n",
              "      <td>32</td>\n",
              "      <td>28</td>\n",
              "      <td>16</td>\n",
              "      <td>18</td>\n",
              "      <td>16</td>\n",
              "      <td>24</td>\n",
              "      <td>7.74</td>\n",
              "      <td>7.10</td>\n",
              "      <td>7.41</td>\n",
              "      <td>0</td>\n",
              "    </tr>\n",
              "    <tr>\n",
              "      <th>4</th>\n",
              "      <td>28</td>\n",
              "      <td>32</td>\n",
              "      <td>20</td>\n",
              "      <td>32</td>\n",
              "      <td>28</td>\n",
              "      <td>18</td>\n",
              "      <td>20</td>\n",
              "      <td>20</td>\n",
              "      <td>30</td>\n",
              "      <td>7.96</td>\n",
              "      <td>7.86</td>\n",
              "      <td>7.91</td>\n",
              "      <td>0</td>\n",
              "    </tr>\n",
              "  </tbody>\n",
              "</table>\n",
              "</div>"
            ],
            "text/plain": [
              "   CS201  CH201  M201  ME201  ES201  ...  ME291  SGPA1  SGPA2  YGPA  DGPA\n",
              "0     24     24    20     24     24  ...     24   6.19   6.48  6.34     0\n",
              "1     24     20    24     20     20  ...     24   6.41   6.34  6.38     0\n",
              "2     28     28    24     28     28  ...     30   7.37   7.59  7.48     0\n",
              "3     24     24    24     32     28  ...     24   7.74   7.10  7.41     0\n",
              "4     28     32    20     32     28  ...     30   7.96   7.86  7.91     0\n",
              "\n",
              "[5 rows x 13 columns]"
            ]
          },
          "metadata": {
            "tags": []
          },
          "execution_count": 15
        }
      ]
    },
    {
      "cell_type": "code",
      "metadata": {
        "id": "tSq_XOyqJqn8",
        "colab_type": "code",
        "outputId": "9e151d5e-7d79-49b6-c075-ced38be88290",
        "colab": {
          "base_uri": "https://localhost:8080/",
          "height": 206
        }
      },
      "source": [
        "drop_list = ['SGPA1','SGPA2','YGPA','DGPA']\n",
        "df = df.drop(drop_list,axis=1)\n",
        "df.head()"
      ],
      "execution_count": 0,
      "outputs": [
        {
          "output_type": "execute_result",
          "data": {
            "text/html": [
              "<div>\n",
              "<style scoped>\n",
              "    .dataframe tbody tr th:only-of-type {\n",
              "        vertical-align: middle;\n",
              "    }\n",
              "\n",
              "    .dataframe tbody tr th {\n",
              "        vertical-align: top;\n",
              "    }\n",
              "\n",
              "    .dataframe thead th {\n",
              "        text-align: right;\n",
              "    }\n",
              "</style>\n",
              "<table border=\"1\" class=\"dataframe\">\n",
              "  <thead>\n",
              "    <tr style=\"text-align: right;\">\n",
              "      <th></th>\n",
              "      <th>CS201</th>\n",
              "      <th>CH201</th>\n",
              "      <th>M201</th>\n",
              "      <th>ME201</th>\n",
              "      <th>ES201</th>\n",
              "      <th>CS291</th>\n",
              "      <th>CH291</th>\n",
              "      <th>ES291</th>\n",
              "      <th>ME291</th>\n",
              "    </tr>\n",
              "  </thead>\n",
              "  <tbody>\n",
              "    <tr>\n",
              "      <th>0</th>\n",
              "      <td>24</td>\n",
              "      <td>24</td>\n",
              "      <td>20</td>\n",
              "      <td>24</td>\n",
              "      <td>24</td>\n",
              "      <td>16</td>\n",
              "      <td>16</td>\n",
              "      <td>16</td>\n",
              "      <td>24</td>\n",
              "    </tr>\n",
              "    <tr>\n",
              "      <th>1</th>\n",
              "      <td>24</td>\n",
              "      <td>20</td>\n",
              "      <td>24</td>\n",
              "      <td>20</td>\n",
              "      <td>20</td>\n",
              "      <td>18</td>\n",
              "      <td>18</td>\n",
              "      <td>16</td>\n",
              "      <td>24</td>\n",
              "    </tr>\n",
              "    <tr>\n",
              "      <th>2</th>\n",
              "      <td>28</td>\n",
              "      <td>28</td>\n",
              "      <td>24</td>\n",
              "      <td>28</td>\n",
              "      <td>28</td>\n",
              "      <td>18</td>\n",
              "      <td>20</td>\n",
              "      <td>16</td>\n",
              "      <td>30</td>\n",
              "    </tr>\n",
              "    <tr>\n",
              "      <th>3</th>\n",
              "      <td>24</td>\n",
              "      <td>24</td>\n",
              "      <td>24</td>\n",
              "      <td>32</td>\n",
              "      <td>28</td>\n",
              "      <td>16</td>\n",
              "      <td>18</td>\n",
              "      <td>16</td>\n",
              "      <td>24</td>\n",
              "    </tr>\n",
              "    <tr>\n",
              "      <th>4</th>\n",
              "      <td>28</td>\n",
              "      <td>32</td>\n",
              "      <td>20</td>\n",
              "      <td>32</td>\n",
              "      <td>28</td>\n",
              "      <td>18</td>\n",
              "      <td>20</td>\n",
              "      <td>20</td>\n",
              "      <td>30</td>\n",
              "    </tr>\n",
              "  </tbody>\n",
              "</table>\n",
              "</div>"
            ],
            "text/plain": [
              "   CS201  CH201  M201  ME201  ES201  CS291  CH291  ES291  ME291\n",
              "0     24     24    20     24     24     16     16     16     24\n",
              "1     24     20    24     20     20     18     18     16     24\n",
              "2     28     28    24     28     28     18     20     16     30\n",
              "3     24     24    24     32     28     16     18     16     24\n",
              "4     28     32    20     32     28     18     20     20     30"
            ]
          },
          "metadata": {
            "tags": []
          },
          "execution_count": 16
        }
      ]
    },
    {
      "cell_type": "code",
      "metadata": {
        "id": "DZICZ1PC_C62",
        "colab_type": "code",
        "outputId": "84204351-78ab-4684-83a8-239fc072c29d",
        "colab": {
          "base_uri": "https://localhost:8080/",
          "height": 52
        }
      },
      "source": [
        "# retaining df that has to be used further\n",
        "X = df.values\n",
        "print(X[:2])"
      ],
      "execution_count": 0,
      "outputs": [
        {
          "output_type": "stream",
          "text": [
            "[[24 24 20 24 24 16 16 16 24]\n",
            " [24 20 24 20 20 18 18 16 24]]\n"
          ],
          "name": "stdout"
        }
      ]
    },
    {
      "cell_type": "code",
      "metadata": {
        "id": "wdULAxDlM67B",
        "colab_type": "code",
        "outputId": "a1afa6cc-0bbc-48a8-9598-90620ea886c4",
        "colab": {
          "base_uri": "https://localhost:8080/",
          "height": 34
        }
      },
      "source": [
        "df.shape"
      ],
      "execution_count": 0,
      "outputs": [
        {
          "output_type": "execute_result",
          "data": {
            "text/plain": [
              "(317, 9)"
            ]
          },
          "metadata": {
            "tags": []
          },
          "execution_count": 18
        }
      ]
    },
    {
      "cell_type": "code",
      "metadata": {
        "id": "uuZmvAi9Ng4N",
        "colab_type": "code",
        "outputId": "6ae78e08-c56e-41b8-c370-14367b80ee67",
        "colab": {
          "base_uri": "https://localhost:8080/",
          "height": 69
        }
      },
      "source": [
        "df.columns\n"
      ],
      "execution_count": 0,
      "outputs": [
        {
          "output_type": "execute_result",
          "data": {
            "text/plain": [
              "Index(['CS201', 'CH201', 'M201', 'ME201', 'ES201', 'CS291', 'CH291', 'ES291',\n",
              "       'ME291'],\n",
              "      dtype='object')"
            ]
          },
          "metadata": {
            "tags": []
          },
          "execution_count": 19
        }
      ]
    },
    {
      "cell_type": "code",
      "metadata": {
        "id": "ee8cSJ-1Nxqi",
        "colab_type": "code",
        "outputId": "e1273bc8-9d65-4b07-f8f2-a2419ffb11b0",
        "colab": {
          "base_uri": "https://localhost:8080/",
          "height": 206
        }
      },
      "source": [
        "# scaling data\n",
        "from sklearn.preprocessing import StandardScaler\n",
        "scaled_data = StandardScaler().fit(df).fit_transform(df)\n",
        "df_X = pd.DataFrame(scaled_data,columns=df.columns)\n",
        "df_X.head()"
      ],
      "execution_count": 0,
      "outputs": [
        {
          "output_type": "execute_result",
          "data": {
            "text/html": [
              "<div>\n",
              "<style scoped>\n",
              "    .dataframe tbody tr th:only-of-type {\n",
              "        vertical-align: middle;\n",
              "    }\n",
              "\n",
              "    .dataframe tbody tr th {\n",
              "        vertical-align: top;\n",
              "    }\n",
              "\n",
              "    .dataframe thead th {\n",
              "        text-align: right;\n",
              "    }\n",
              "</style>\n",
              "<table border=\"1\" class=\"dataframe\">\n",
              "  <thead>\n",
              "    <tr style=\"text-align: right;\">\n",
              "      <th></th>\n",
              "      <th>CS201</th>\n",
              "      <th>CH201</th>\n",
              "      <th>M201</th>\n",
              "      <th>ME201</th>\n",
              "      <th>ES201</th>\n",
              "      <th>CS291</th>\n",
              "      <th>CH291</th>\n",
              "      <th>ES291</th>\n",
              "      <th>ME291</th>\n",
              "    </tr>\n",
              "  </thead>\n",
              "  <tbody>\n",
              "    <tr>\n",
              "      <th>0</th>\n",
              "      <td>0.177715</td>\n",
              "      <td>-0.529377</td>\n",
              "      <td>-0.910818</td>\n",
              "      <td>-0.095968</td>\n",
              "      <td>-0.168732</td>\n",
              "      <td>-0.846355</td>\n",
              "      <td>-0.832545</td>\n",
              "      <td>-1.176205</td>\n",
              "      <td>-1.130047</td>\n",
              "    </tr>\n",
              "    <tr>\n",
              "      <th>1</th>\n",
              "      <td>0.177715</td>\n",
              "      <td>-1.255837</td>\n",
              "      <td>-0.178002</td>\n",
              "      <td>-0.659333</td>\n",
              "      <td>-0.881908</td>\n",
              "      <td>0.253213</td>\n",
              "      <td>0.170941</td>\n",
              "      <td>-1.176205</td>\n",
              "      <td>-1.130047</td>\n",
              "    </tr>\n",
              "    <tr>\n",
              "      <th>2</th>\n",
              "      <td>0.730027</td>\n",
              "      <td>0.197084</td>\n",
              "      <td>-0.178002</td>\n",
              "      <td>0.467398</td>\n",
              "      <td>0.544443</td>\n",
              "      <td>0.253213</td>\n",
              "      <td>1.174427</td>\n",
              "      <td>-1.176205</td>\n",
              "      <td>1.543274</td>\n",
              "    </tr>\n",
              "    <tr>\n",
              "      <th>3</th>\n",
              "      <td>0.177715</td>\n",
              "      <td>-0.529377</td>\n",
              "      <td>-0.178002</td>\n",
              "      <td>1.030763</td>\n",
              "      <td>0.544443</td>\n",
              "      <td>-0.846355</td>\n",
              "      <td>0.170941</td>\n",
              "      <td>-1.176205</td>\n",
              "      <td>-1.130047</td>\n",
              "    </tr>\n",
              "    <tr>\n",
              "      <th>4</th>\n",
              "      <td>0.730027</td>\n",
              "      <td>0.923545</td>\n",
              "      <td>-0.910818</td>\n",
              "      <td>1.030763</td>\n",
              "      <td>0.544443</td>\n",
              "      <td>0.253213</td>\n",
              "      <td>1.174427</td>\n",
              "      <td>1.525657</td>\n",
              "      <td>1.543274</td>\n",
              "    </tr>\n",
              "  </tbody>\n",
              "</table>\n",
              "</div>"
            ],
            "text/plain": [
              "      CS201     CH201      M201  ...     CH291     ES291     ME291\n",
              "0  0.177715 -0.529377 -0.910818  ... -0.832545 -1.176205 -1.130047\n",
              "1  0.177715 -1.255837 -0.178002  ...  0.170941 -1.176205 -1.130047\n",
              "2  0.730027  0.197084 -0.178002  ...  1.174427 -1.176205  1.543274\n",
              "3  0.177715 -0.529377 -0.178002  ...  0.170941 -1.176205 -1.130047\n",
              "4  0.730027  0.923545 -0.910818  ...  1.174427  1.525657  1.543274\n",
              "\n",
              "[5 rows x 9 columns]"
            ]
          },
          "metadata": {
            "tags": []
          },
          "execution_count": 20
        }
      ]
    },
    {
      "cell_type": "markdown",
      "metadata": {
        "id": "MFScArjhHKHY",
        "colab_type": "text"
      },
      "source": [
        "## Creating a Machine Learning Model"
      ]
    },
    {
      "cell_type": "markdown",
      "metadata": {
        "id": "EyBWD7yOHa0v",
        "colab_type": "text"
      },
      "source": [
        "#### supervised learning"
      ]
    },
    {
      "cell_type": "code",
      "metadata": {
        "id": "NFgpoJ7LMrxr",
        "colab_type": "code",
        "outputId": "44d01d37-d87e-44d2-c1fa-04ae0191246b",
        "colab": {
          "base_uri": "https://localhost:8080/",
          "height": 419
        }
      },
      "source": [
        "from sklearn.model_selection import train_test_split\n",
        "X_train,X_test,Y_train,Y_test = train_test_split(df_X,df_Y,test_size=.2)\n",
        "print(X_train.shape,X_test.shape,Y_train.shape,Y_test.shape)\n",
        "\n",
        "\n",
        "\n",
        "etc = ExtraTreesClassifier()\n",
        "\n",
        "#cross validation\n",
        "kf = KFold(n_splits=10)\n",
        "cv_score = cross_val_score(etc,X_train,Y_train,cv=kf,scoring='accuracy')\n",
        "print('mean_cv_score:',np.mean(cv_score))\n",
        "\n"
      ],
      "execution_count": 0,
      "outputs": [
        {
          "output_type": "stream",
          "text": [
            "(253, 9) (64, 9) (253,) (64,)\n",
            "mean_cv_score: 0.8812307692307693\n"
          ],
          "name": "stdout"
        },
        {
          "output_type": "stream",
          "text": [
            "/usr/local/lib/python3.6/dist-packages/sklearn/ensemble/forest.py:245: FutureWarning: The default value of n_estimators will change from 10 in version 0.20 to 100 in 0.22.\n",
            "  \"10 in version 0.20 to 100 in 0.22.\", FutureWarning)\n",
            "/usr/local/lib/python3.6/dist-packages/sklearn/ensemble/forest.py:245: FutureWarning: The default value of n_estimators will change from 10 in version 0.20 to 100 in 0.22.\n",
            "  \"10 in version 0.20 to 100 in 0.22.\", FutureWarning)\n",
            "/usr/local/lib/python3.6/dist-packages/sklearn/ensemble/forest.py:245: FutureWarning: The default value of n_estimators will change from 10 in version 0.20 to 100 in 0.22.\n",
            "  \"10 in version 0.20 to 100 in 0.22.\", FutureWarning)\n",
            "/usr/local/lib/python3.6/dist-packages/sklearn/ensemble/forest.py:245: FutureWarning: The default value of n_estimators will change from 10 in version 0.20 to 100 in 0.22.\n",
            "  \"10 in version 0.20 to 100 in 0.22.\", FutureWarning)\n",
            "/usr/local/lib/python3.6/dist-packages/sklearn/ensemble/forest.py:245: FutureWarning: The default value of n_estimators will change from 10 in version 0.20 to 100 in 0.22.\n",
            "  \"10 in version 0.20 to 100 in 0.22.\", FutureWarning)\n",
            "/usr/local/lib/python3.6/dist-packages/sklearn/ensemble/forest.py:245: FutureWarning: The default value of n_estimators will change from 10 in version 0.20 to 100 in 0.22.\n",
            "  \"10 in version 0.20 to 100 in 0.22.\", FutureWarning)\n",
            "/usr/local/lib/python3.6/dist-packages/sklearn/ensemble/forest.py:245: FutureWarning: The default value of n_estimators will change from 10 in version 0.20 to 100 in 0.22.\n",
            "  \"10 in version 0.20 to 100 in 0.22.\", FutureWarning)\n",
            "/usr/local/lib/python3.6/dist-packages/sklearn/ensemble/forest.py:245: FutureWarning: The default value of n_estimators will change from 10 in version 0.20 to 100 in 0.22.\n",
            "  \"10 in version 0.20 to 100 in 0.22.\", FutureWarning)\n",
            "/usr/local/lib/python3.6/dist-packages/sklearn/ensemble/forest.py:245: FutureWarning: The default value of n_estimators will change from 10 in version 0.20 to 100 in 0.22.\n",
            "  \"10 in version 0.20 to 100 in 0.22.\", FutureWarning)\n",
            "/usr/local/lib/python3.6/dist-packages/sklearn/ensemble/forest.py:245: FutureWarning: The default value of n_estimators will change from 10 in version 0.20 to 100 in 0.22.\n",
            "  \"10 in version 0.20 to 100 in 0.22.\", FutureWarning)\n"
          ],
          "name": "stderr"
        }
      ]
    },
    {
      "cell_type": "code",
      "metadata": {
        "id": "XxMQMs5PRD4g",
        "colab_type": "code",
        "colab": {}
      },
      "source": [
        ""
      ],
      "execution_count": 0,
      "outputs": []
    },
    {
      "cell_type": "markdown",
      "metadata": {
        "id": "O6vU7WDUQccX",
        "colab_type": "text"
      },
      "source": [
        "# tuning rfc"
      ]
    },
    {
      "cell_type": "code",
      "metadata": {
        "id": "3myjmHw7QbBY",
        "colab_type": "code",
        "outputId": "05b9cff8-ecb1-40fe-c40b-ba1aa7212803",
        "colab": {
          "base_uri": "https://localhost:8080/",
          "height": 106
        }
      },
      "source": [
        "# No. of trees in ExtraTreesClassifier\n",
        "n_estimators = [int(x) for x in np.linspace(start=100,stop=500,num=15)]\n",
        "print(n_estimators)\n",
        "\n",
        "# No. of features to consider  at every split\n",
        "max_features = ['auto','sqrt','log2',None]\n",
        "print(max_features)\n",
        "\n",
        "# Maxm no. of levels in tree\n",
        "max_depth = [int(i) for i in np.linspace(start=10,stop=150)]\n",
        "max_depth.append(None)\n",
        "print(max_depth)\n",
        "\n",
        "#Minm no. of samples to split a node\n",
        "min_samples_split=[2,3,4,5,10]\n",
        "\n",
        "# Minm no. of samples required at each leaf node\n",
        "min_samples_leaf = [1,2,4]\n",
        "\n",
        "# methods for selecting samples for traning  each tree\n",
        "bootstrap = [True,False]\n",
        "\n",
        "# create param_grid\n",
        "param_grid = dict(n_estimators = n_estimators,\n",
        "                 max_features = max_features,\n",
        "                 max_depth = max_depth,\n",
        "                 min_samples_split = min_samples_split,\n",
        "                 min_samples_leaf = min_samples_leaf,\n",
        "                 bootstrap = bootstrap)\n",
        "\n",
        "print (param_grid)\n",
        "\n",
        "# cross validation using RandomizedSearchCV\n",
        "rscv =  RandomizedSearchCV(etc,param_grid,cv=kf,scoring='accuracy')\n",
        "\n"
      ],
      "execution_count": 0,
      "outputs": [
        {
          "output_type": "stream",
          "text": [
            "[100, 128, 157, 185, 214, 242, 271, 300, 328, 357, 385, 414, 442, 471, 500]\n",
            "['auto', 'sqrt', 'log2', None]\n",
            "[10, 12, 15, 18, 21, 24, 27, 30, 32, 35, 38, 41, 44, 47, 50, 52, 55, 58, 61, 64, 67, 70, 72, 75, 78, 81, 84, 87, 90, 92, 95, 98, 101, 104, 107, 110, 112, 115, 118, 121, 124, 127, 130, 132, 135, 138, 141, 144, 147, 150, None]\n",
            "{'n_estimators': [100, 128, 157, 185, 214, 242, 271, 300, 328, 357, 385, 414, 442, 471, 500], 'max_features': ['auto', 'sqrt', 'log2', None], 'max_depth': [10, 12, 15, 18, 21, 24, 27, 30, 32, 35, 38, 41, 44, 47, 50, 52, 55, 58, 61, 64, 67, 70, 72, 75, 78, 81, 84, 87, 90, 92, 95, 98, 101, 104, 107, 110, 112, 115, 118, 121, 124, 127, 130, 132, 135, 138, 141, 144, 147, 150, None], 'min_samples_split': [2, 3, 4, 5, 10], 'min_samples_leaf': [1, 2, 4], 'bootstrap': [True, False]}\n"
          ],
          "name": "stdout"
        }
      ]
    },
    {
      "cell_type": "code",
      "metadata": {
        "id": "G06BVooigFKz",
        "colab_type": "code",
        "outputId": "1be6c568-be03-44fd-d1f6-76d9ff661e44",
        "colab": {
          "base_uri": "https://localhost:8080/",
          "height": 541
        }
      },
      "source": [
        "rscv.fit(X_train,Y_train)"
      ],
      "execution_count": 0,
      "outputs": [
        {
          "output_type": "stream",
          "text": [
            "/usr/local/lib/python3.6/dist-packages/sklearn/model_selection/_search.py:814: DeprecationWarning: The default of the `iid` parameter will change from True to False in version 0.22 and will be removed in 0.24. This will change numeric results when test-set sizes are unequal.\n",
            "  DeprecationWarning)\n"
          ],
          "name": "stderr"
        },
        {
          "output_type": "execute_result",
          "data": {
            "text/plain": [
              "RandomizedSearchCV(cv=KFold(n_splits=10, random_state=None, shuffle=False),\n",
              "                   error_score='raise-deprecating',\n",
              "                   estimator=ExtraTreesClassifier(bootstrap=False,\n",
              "                                                  class_weight=None,\n",
              "                                                  criterion='gini',\n",
              "                                                  max_depth=None,\n",
              "                                                  max_features='auto',\n",
              "                                                  max_leaf_nodes=None,\n",
              "                                                  min_impurity_decrease=0.0,\n",
              "                                                  min_impurity_split=None,\n",
              "                                                  min_samples_leaf=1,\n",
              "                                                  min_samples_split=2,\n",
              "                                                  min_weight_fraction...\n",
              "                                                      27, 30, 32, 35, 38, 41,\n",
              "                                                      44, 47, 50, 52, 55, 58,\n",
              "                                                      61, 64, 67, 70, 72, 75,\n",
              "                                                      78, 81, 84, 87, 90, 92, ...],\n",
              "                                        'max_features': ['auto', 'sqrt', 'log2',\n",
              "                                                         None],\n",
              "                                        'min_samples_leaf': [1, 2, 4],\n",
              "                                        'min_samples_split': [2, 3, 4, 5, 10],\n",
              "                                        'n_estimators': [100, 128, 157, 185,\n",
              "                                                         214, 242, 271, 300,\n",
              "                                                         328, 357, 385, 414,\n",
              "                                                         442, 471, 500]},\n",
              "                   pre_dispatch='2*n_jobs', random_state=None, refit=True,\n",
              "                   return_train_score=False, scoring='accuracy', verbose=0)"
            ]
          },
          "metadata": {
            "tags": []
          },
          "execution_count": 23
        }
      ]
    },
    {
      "cell_type": "code",
      "metadata": {
        "id": "GmzNLPS_gcxf",
        "colab_type": "code",
        "outputId": "d366b0a0-92f2-48ce-e97e-991939b754c4",
        "colab": {
          "base_uri": "https://localhost:8080/",
          "height": 121
        }
      },
      "source": [
        "rscv.best_params_"
      ],
      "execution_count": 0,
      "outputs": [
        {
          "output_type": "execute_result",
          "data": {
            "text/plain": [
              "{'bootstrap': False,\n",
              " 'max_depth': 121,\n",
              " 'max_features': 'sqrt',\n",
              " 'min_samples_leaf': 1,\n",
              " 'min_samples_split': 4,\n",
              " 'n_estimators': 328}"
            ]
          },
          "metadata": {
            "tags": []
          },
          "execution_count": 24
        }
      ]
    },
    {
      "cell_type": "code",
      "metadata": {
        "id": "rz2AUlOhgru_",
        "colab_type": "code",
        "outputId": "1d9df186-fb51-4671-9b79-298a3a8e8068",
        "colab": {
          "base_uri": "https://localhost:8080/",
          "height": 52
        }
      },
      "source": [
        "etc = ExtraTreesClassifier(n_estimators=385,min_samples_split=10,min_samples_leaf=1,max_features='sqrt',max_depth=144,\n",
        "                          bootstrap=True)\n",
        "# cross validation\n",
        "cv_score = cross_val_score(etc,X_train,Y_train,cv=kf,scoring='accuracy')\n",
        "print(np.mean(cv_score))\n",
        "\n",
        "#train the model\n",
        "y_pred = etc.fit(X_train,Y_train).predict(X_test)\n",
        "print(accuracy_score(Y_test,y_pred))"
      ],
      "execution_count": 0,
      "outputs": [
        {
          "output_type": "stream",
          "text": [
            "0.8967692307692309\n",
            "0.953125\n"
          ],
          "name": "stdout"
        }
      ]
    },
    {
      "cell_type": "code",
      "metadata": {
        "id": "6N1nuxvhgo0Q",
        "colab_type": "code",
        "colab": {}
      },
      "source": [
        "\n",
        "# feature importance\n",
        "x,y =[],[]\n",
        "etc.fit(X_train,Y_train)\n",
        "f = list(zip(df.columns,etc.feature_importances_))\n",
        "k  = lambda s: s[1]\n",
        "f = sorted(f,key=k,reverse=True)\n",
        "for i,j in f:\n",
        "  y.append(i)\n",
        "  x.append(j)"
      ],
      "execution_count": 0,
      "outputs": []
    },
    {
      "cell_type": "code",
      "metadata": {
        "id": "BA640nTvjGMP",
        "colab_type": "code",
        "outputId": "e5d0ac84-2a99-49e6-e1c5-5b5e0fe01db3",
        "colab": {
          "base_uri": "https://localhost:8080/",
          "height": 350
        }
      },
      "source": [
        "plt.figure(figsize=(15,5))\n",
        "plt.title(\"feature Importance\")\n",
        "plt.xlabel(\"Relative Importance\")\n",
        "plt.ylabel(\"Features\")\n",
        "plt.barh(y,x,height=.7,color='r')\n",
        "\n",
        "plt.show()"
      ],
      "execution_count": 0,
      "outputs": [
        {
          "output_type": "display_data",
          "data": {
            "image/png": "[encoded data removed]",
            "text/plain": [
              "<Figure size 1080x360 with 1 Axes>"
            ]
          },
          "metadata": {
            "tags": []
          }
        }
      ]
    },
    {
      "cell_type": "code",
      "metadata": {
        "id": "07AsT0en7W9S",
        "colab_type": "code",
        "outputId": "8ec23935-8a93-4151-9eb0-132844b5cf85",
        "colab": {
          "base_uri": "https://localhost:8080/",
          "height": 69
        }
      },
      "source": [
        "fea_imp = ['CS201','ME201','ES201']\n",
        "for i in fea_imp:\n",
        "  print('no. of students having marks greater than mean marks of',i,':',df[df[i] > np.mean(df[i])][i].count(),', mean = ',np.mean(df[i]))\n"
      ],
      "execution_count": 0,
      "outputs": [
        {
          "output_type": "stream",
          "text": [
            "no. of students having marks greater than mean marks of CS201 : 183 , mean =  22.71293375394322\n",
            "no. of students having marks greater than mean marks of ME201 : 137 , mean =  24.681388012618296\n",
            "no. of students having marks greater than mean marks of ES201 : 146 , mean =  24.946372239747635\n"
          ],
          "name": "stdout"
        }
      ]
    },
    {
      "cell_type": "code",
      "metadata": {
        "id": "I9px9gM5FtBF",
        "colab_type": "code",
        "outputId": "9638d76b-7302-4575-e55f-87cb7207e274",
        "colab": {
          "base_uri": "https://localhost:8080/",
          "height": 314
        }
      },
      "source": [
        "\n",
        "\n",
        "\n",
        "# no. of students above mean score\n",
        "d_l = [] # list for storing no. of student score more than mean\n",
        "\n",
        "fea_imp = ['CS201','ME201','ES201']\n",
        "for i in fea_imp:\n",
        "  d_l.append(df[df[i] > np.mean(df[i])][i].count())\n",
        "  \n",
        "# no. of students below mean score\n",
        "l_d = [] # list for storing no. of student score more than mean\n",
        "\n",
        "fea_imp = ['CS201','ME201','ES201']\n",
        "for i in fea_imp:\n",
        "  l_d.append(df[df[i] < np.mean(df[i])][i].count())\n",
        "\n",
        "#plotting double bar graph\n",
        "\n",
        "n_group = 3\n",
        "\n",
        "#create plot\n",
        "fig, ax = plt.subplots()\n",
        "index = np.arange(n_group)\n",
        "bar_width = 0.35\n",
        "opacity = 0.8\n",
        "\n",
        "plt.bar(index, d_l, bar_width,\n",
        "alpha=opacity,\n",
        "color='b',\n",
        "label='above mean')\n",
        "\n",
        "plt.bar(index + bar_width, l_d, bar_width,\n",
        "alpha=opacity,\n",
        "color='g',\n",
        "label='below mean')\n",
        "\n",
        "plt.title(\"No. of students VS Subjects\")\n",
        "plt.xlabel(\"subjects------>\")\n",
        "plt.ylabel(\"no. of students---->\")\n",
        "\n",
        "plt.xticks(index + bar_width, ('CS201', 'ME201', 'ES201'))\n",
        "plt.legend()\n",
        "\n",
        "plt.tight_layout()\n",
        "\n",
        "plt.figure(figsize=(10,16))\n",
        "\n",
        "plt.show()"
      ],
      "execution_count": 0,
      "outputs": [
        {
          "output_type": "display_data",
          "data": {
            "image/png": "[encoded data removed]",
            "text/plain": [
              "<Figure size 432x288 with 1 Axes>"
            ]
          },
          "metadata": {
            "tags": []
          }
        },
        {
          "output_type": "display_data",
          "data": {
            "text/plain": [
              "<Figure size 720x1152 with 0 Axes>"
            ]
          },
          "metadata": {
            "tags": []
          }
        }
      ]
    },
    {
      "cell_type": "markdown",
      "metadata": {
        "id": "f3QdaUwcKT2q",
        "colab_type": "text"
      },
      "source": [
        "#### Unsupervised Learning\n"
      ]
    },
    {
      "cell_type": "code",
      "metadata": {
        "id": "nYJisGWGQAKV",
        "colab_type": "code",
        "colab": {}
      },
      "source": [
        "from sklearn.decomposition import PCA"
      ],
      "execution_count": 0,
      "outputs": []
    },
    {
      "cell_type": "code",
      "metadata": {
        "id": "Y4v7lvknHgHX",
        "colab_type": "code",
        "outputId": "e9e90477-e51c-4062-d73c-d4a177ea1f13",
        "colab": {
          "base_uri": "https://localhost:8080/",
          "height": 593
        }
      },
      "source": [
        "!pip install scikit-plot\n",
        "import scikitplot as skplt\n",
        "pca=PCA().fit(scaled_data)\n",
        "\n",
        "skplt.decomposition.plot_pca_component_variance(pca)"
      ],
      "execution_count": 0,
      "outputs": [
        {
          "output_type": "stream",
          "text": [
            "Collecting scikit-plot\n",
            "  Downloading https://files.pythonhosted.org/packages/7c/47/32520e259340c140a4ad27c1b97050dd3254fdc517b1d59974d47037510e/scikit_plot-0.3.7-py3-none-any.whl\n",
            "Requirement already satisfied: scikit-learn>=0.18 in /usr/local/lib/python3.6/dist-packages (from scikit-plot) (0.21.3)\n",
            "Requirement already satisfied: joblib>=0.10 in /usr/local/lib/python3.6/dist-packages (from scikit-plot) (0.13.2)\n",
            "Requirement already satisfied: scipy>=0.9 in /usr/local/lib/python3.6/dist-packages (from scikit-plot) (1.3.1)\n",
            "Requirement already satisfied: matplotlib>=1.4.0 in /usr/local/lib/python3.6/dist-packages (from scikit-plot) (3.0.3)\n",
            "Requirement already satisfied: numpy>=1.11.0 in /usr/local/lib/python3.6/dist-packages (from scikit-learn>=0.18->scikit-plot) (1.16.4)\n",
            "Requirement already satisfied: kiwisolver>=1.0.1 in /usr/local/lib/python3.6/dist-packages (from matplotlib>=1.4.0->scikit-plot) (1.1.0)\n",
            "Requirement already satisfied: python-dateutil>=2.1 in /usr/local/lib/python3.6/dist-packages (from matplotlib>=1.4.0->scikit-plot) (2.5.3)\n",
            "Requirement already satisfied: pyparsing!=2.0.4,!=2.1.2,!=2.1.6,>=2.0.1 in /usr/local/lib/python3.6/dist-packages (from matplotlib>=1.4.0->scikit-plot) (2.4.2)\n",
            "Requirement already satisfied: cycler>=0.10 in /usr/local/lib/python3.6/dist-packages (from matplotlib>=1.4.0->scikit-plot) (0.10.0)\n",
            "Requirement already satisfied: setuptools in /usr/local/lib/python3.6/dist-packages (from kiwisolver>=1.0.1->matplotlib>=1.4.0->scikit-plot) (41.2.0)\n",
            "Requirement already satisfied: six>=1.5 in /usr/local/lib/python3.6/dist-packages (from python-dateutil>=2.1->matplotlib>=1.4.0->scikit-plot) (1.12.0)\n",
            "Installing collected packages: scikit-plot\n",
            "Successfully installed scikit-plot-0.3.7\n"
          ],
          "name": "stdout"
        },
        {
          "output_type": "execute_result",
          "data": {
            "text/plain": [
              "<matplotlib.axes._subplots.AxesSubplot at 0x7f749481de10>"
            ]
          },
          "metadata": {
            "tags": []
          },
          "execution_count": 31
        },
        {
          "output_type": "display_data",
          "data": {
            "image/png": "[encoded data removed]",
            "text/plain": [
              "<Figure size 432x288 with 1 Axes>"
            ]
          },
          "metadata": {
            "tags": []
          }
        }
      ]
    },
    {
      "cell_type": "code",
      "metadata": {
        "id": "N04eTLLtHf_3",
        "colab_type": "code",
        "colab": {}
      },
      "source": [
        "pca_result = PCA(n_components=5).fit(scaled_data).fit_transform(scaled_data)"
      ],
      "execution_count": 0,
      "outputs": []
    },
    {
      "cell_type": "code",
      "metadata": {
        "id": "kLfv4DJgQiwo",
        "colab_type": "code",
        "outputId": "13729722-2df7-4cae-c79a-cebabadbd933",
        "colab": {
          "base_uri": "https://localhost:8080/",
          "height": 269
        }
      },
      "source": [
        "plt.scatter(pca_result[:,0],pca_result[:,1])\n",
        "plt.show()"
      ],
      "execution_count": 0,
      "outputs": [
        {
          "output_type": "display_data",
          "data": {
            "image/png": "[encoded data removed]",
            "text/plain": [
              "<Figure size 432x288 with 1 Axes>"
            ]
          },
          "metadata": {
            "tags": []
          }
        }
      ]
    },
    {
      "cell_type": "markdown",
      "metadata": {
        "id": "M1tDtDbHL6UK",
        "colab_type": "text"
      },
      "source": [
        "### Apply K-means clustering"
      ]
    },
    {
      "cell_type": "code",
      "metadata": {
        "id": "OjIzzTaVTTeT",
        "colab_type": "code",
        "outputId": "1c9d2f96-3303-4956-c434-f095c40ceaba",
        "colab": {
          "base_uri": "https://localhost:8080/",
          "height": 312
        }
      },
      "source": [
        "from sklearn.cluster import KMeans\n",
        "\n",
        "kmeans = KMeans()\n",
        "skplt.cluster.plot_elbow_curve(kmeans,pca_result,cluster_ranges=range(1,20))"
      ],
      "execution_count": 0,
      "outputs": [
        {
          "output_type": "execute_result",
          "data": {
            "text/plain": [
              "<matplotlib.axes._subplots.AxesSubplot at 0x7f74930dd128>"
            ]
          },
          "metadata": {
            "tags": []
          },
          "execution_count": 34
        },
        {
          "output_type": "display_data",
          "data": {
            "image/png": "[encoded data removed]",
            "text/plain": [
              "<Figure size 432x288 with 2 Axes>"
            ]
          },
          "metadata": {
            "tags": []
          }
        }
      ]
    },
    {
      "cell_type": "code",
      "metadata": {
        "id": "Qn3h2H6VMKel",
        "colab_type": "code",
        "outputId": "7f67f47f-e4e6-48a0-d6b2-b2a16bb201e4",
        "colab": {
          "base_uri": "https://localhost:8080/",
          "height": 300
        }
      },
      "source": [
        "kmeans = KMeans(n_clusters=4)\n",
        "kmeans.fit(pca_result)\n",
        "plt.scatter(pca_result[:,0],pca_result[:,1],c=kmeans.labels_)\n",
        "plt.xlabel(\"1st Feature space(1st pca component)\")\n",
        "plt.ylabel(\"2nd Feature space(2nd pca component)\")\n",
        "\n",
        "#cluster centers\n",
        "centers = kmeans.cluster_centers_\n",
        "plt.scatter(centers[:,0],centers[:,1],c='b')\n",
        "\n",
        "#plt.scatter(-2.04031996,  0.05638455,  0.05634186,  0.0096862,c ='g',marker='s', s=100)\n",
        "#plt.scatter(2.13246344, -0.05893095, -0.05888634, -0.01012364, c='g',marker='s',s=100)\n",
        "\n",
        "plt.legend()\n",
        "plt.show()"
      ],
      "execution_count": 0,
      "outputs": [
        {
          "output_type": "stream",
          "text": [
            "No handles with labels found to put in legend.\n"
          ],
          "name": "stderr"
        },
        {
          "output_type": "display_data",
          "data": {
            "image/png": "[encoded data removed]",
            "text/plain": [
              "<Figure size 432x288 with 1 Axes>"
            ]
          },
          "metadata": {
            "tags": []
          }
        }
      ]
    },
    {
      "cell_type": "code",
      "metadata": {
        "id": "KBxsBWmnB1uY",
        "colab_type": "code",
        "outputId": "0b4e624c-f64d-4223-8348-a8beaf08aaee",
        "colab": {
          "base_uri": "https://localhost:8080/",
          "height": 32
        }
      },
      "source": [
        ""
      ],
      "execution_count": 0,
      "outputs": [
        {
          "output_type": "execute_result",
          "data": {
            "text/html": [
              "<div>\n",
              "<style scoped>\n",
              "    .dataframe tbody tr th:only-of-type {\n",
              "        vertical-align: middle;\n",
              "    }\n",
              "\n",
              "    .dataframe tbody tr th {\n",
              "        vertical-align: top;\n",
              "    }\n",
              "\n",
              "    .dataframe thead th {\n",
              "        text-align: right;\n",
              "    }\n",
              "</style>\n",
              "<table border=\"1\" class=\"dataframe\">\n",
              "  <thead>\n",
              "    <tr style=\"text-align: right;\">\n",
              "      <th></th>\n",
              "    </tr>\n",
              "  </thead>\n",
              "  <tbody>\n",
              "  </tbody>\n",
              "</table>\n",
              "</div>"
            ],
            "text/plain": [
              "Empty DataFrame\n",
              "Columns: []\n",
              "Index: []"
            ]
          },
          "metadata": {
            "tags": []
          },
          "execution_count": 71
        }
      ]
    },
    {
      "cell_type": "code",
      "metadata": {
        "id": "tba6Mt4VBV-Z",
        "colab_type": "code",
        "outputId": "8771e24a-223a-4997-b904-a316c336c193",
        "colab": {
          "base_uri": "https://localhost:8080/",
          "height": 184
        }
      },
      "source": [
        ""
      ],
      "execution_count": 0,
      "outputs": [
        {
          "output_type": "error",
          "ename": "AttributeError",
          "evalue": "ignored",
          "traceback": [
            "\u001b[0;31m---------------------------------------------------------------------------\u001b[0m",
            "\u001b[0;31mAttributeError\u001b[0m                            Traceback (most recent call last)",
            "\u001b[0;32m<ipython-input-76-a874ce7fdcf2>\u001b[0m in \u001b[0;36m<module>\u001b[0;34m()\u001b[0m\n\u001b[0;32m----> 1\u001b[0;31m cluster_map = pd.DataFrame(pd.Series(pca_result.values),\n\u001b[0m\u001b[1;32m      2\u001b[0m                           pd.Series(kmeans.labels_))\n",
            "\u001b[0;31mAttributeError\u001b[0m: 'numpy.ndarray' object has no attribute 'values'"
          ]
        }
      ]
    },
    {
      "cell_type": "code",
      "metadata": {
        "id": "KikLYSWd30b9",
        "colab_type": "code",
        "outputId": "099ec330-2d39-499f-fb82-adf4fba1e317",
        "colab": {
          "base_uri": "https://localhost:8080/",
          "height": 350
        }
      },
      "source": [
        "skplt.metrics.plot_silhouette(pca_result,kmeans.labels_,figsize=(12,5))\n",
        "plt.show()"
      ],
      "execution_count": 0,
      "outputs": [
        {
          "output_type": "display_data",
          "data": {
            "image/png": "[encoded data removed]",
            "text/plain": [
              "<Figure size 864x360 with 1 Axes>"
            ]
          },
          "metadata": {
            "tags": []
          }
        }
      ]
    },
    {
      "cell_type": "code",
      "metadata": {
        "id": "d3Qr6GmXj-f_",
        "colab_type": "code",
        "outputId": "0c4058a8-9b72-479a-f654-a39692906a29",
        "colab": {
          "base_uri": "https://localhost:8080/",
          "height": 34
        }
      },
      "source": [
        "# Finding out no. of elements in each category (here 13 categories)\n",
        "from collections import Counter\n",
        "category = sorted(Counter(kmeans.labels_).items())\n",
        "print(category)\n"
      ],
      "execution_count": 0,
      "outputs": [
        {
          "output_type": "stream",
          "text": [
            "[(0, 53), (1, 71), (2, 68), (3, 125)]\n"
          ],
          "name": "stdout"
        }
      ]
    },
    {
      "cell_type": "code",
      "metadata": {
        "id": "YQ8fWY-xmpOn",
        "colab_type": "code",
        "outputId": "79140f91-27f2-406a-de4d-9c65e856e789",
        "colab": {
          "base_uri": "https://localhost:8080/",
          "height": 34
        }
      },
      "source": [
        "# zipping X(score by each student in diff. paper) and labels\n",
        "t = list(zip(X,kmeans.labels_))\n",
        "print(t[0])"
      ],
      "execution_count": 0,
      "outputs": [
        {
          "output_type": "stream",
          "text": [
            "(array([24, 24, 20, 24, 24, 16, 16, 16, 24]), 0)\n"
          ],
          "name": "stdout"
        }
      ]
    },
    {
      "cell_type": "code",
      "metadata": {
        "id": "MpGlOSO_pZF0",
        "colab_type": "code",
        "colab": {}
      },
      "source": [
        "# sorting a/c to labels\n",
        "k = lambda x:x[1]\n",
        "t_sort = sorted(t,key=k)\n"
      ],
      "execution_count": 0,
      "outputs": []
    },
    {
      "cell_type": "code",
      "metadata": {
        "id": "IORr7JzNpaz8",
        "colab_type": "code",
        "outputId": "08f5bf96-4b90-4946-ed88-71fbdc328b03",
        "colab": {
          "base_uri": "https://localhost:8080/",
          "height": 54
        }
      },
      "source": [
        "# checking sorted dataframe, at index=67 label should be 2\n",
        "print(t_sort[:3])"
      ],
      "execution_count": 0,
      "outputs": [
        {
          "output_type": "stream",
          "text": [
            "[(array([24, 24, 20, 24, 24, 16, 16, 16, 24]), 0), (array([24, 24, 24, 32, 28, 16, 18, 16, 24]), 0), (array([28, 20, 20, 24, 24, 16, 18, 16, 24]), 0)]\n"
          ],
          "name": "stdout"
        }
      ]
    },
    {
      "cell_type": "code",
      "metadata": {
        "id": "_dsD8vHCPQhv",
        "colab_type": "code",
        "colab": {}
      },
      "source": [
        "label = list()\n",
        "data = list()\n",
        "for i in t_sort:\n",
        "  data.append(i[0])\n",
        "  label.append(i[1])"
      ],
      "execution_count": 0,
      "outputs": []
    },
    {
      "cell_type": "code",
      "metadata": {
        "id": "0ZMlEhHVPQdj",
        "colab_type": "code",
        "outputId": "34afcf03-2138-4b03-9a52-cab5c573cfaf",
        "colab": {
          "base_uri": "https://localhost:8080/",
          "height": 34
        }
      },
      "source": [
        "new_df1 = pd.DataFrame(data,columns=df.columns)\n",
        "new_df1.head()\n",
        "new_df1.shape"
      ],
      "execution_count": 0,
      "outputs": [
        {
          "output_type": "execute_result",
          "data": {
            "text/plain": [
              "(317, 9)"
            ]
          },
          "metadata": {
            "tags": []
          },
          "execution_count": 41
        }
      ]
    },
    {
      "cell_type": "code",
      "metadata": {
        "id": "itJvIwJ8PQVK",
        "colab_type": "code",
        "outputId": "26544434-5ffa-4311-8d29-5041209ba7e7",
        "colab": {
          "base_uri": "https://localhost:8080/",
          "height": 34
        }
      },
      "source": [
        "new_df2 = pd.DataFrame(label,columns=['group'])\n",
        "new_df2.head()\n",
        "new_df2.shape"
      ],
      "execution_count": 0,
      "outputs": [
        {
          "output_type": "execute_result",
          "data": {
            "text/plain": [
              "(317, 1)"
            ]
          },
          "metadata": {
            "tags": []
          },
          "execution_count": 42
        }
      ]
    },
    {
      "cell_type": "code",
      "metadata": {
        "id": "E1Gk7U07ysqI",
        "colab_type": "code",
        "colab": {}
      },
      "source": [
        "#df.loc[44:50]"
      ],
      "execution_count": 0,
      "outputs": []
    },
    {
      "cell_type": "code",
      "metadata": {
        "id": "nbq4qMF8OAHS",
        "colab_type": "code",
        "outputId": "0c24f855-e0be-42aa-c0c3-5972947b587a",
        "colab": {
          "base_uri": "https://localhost:8080/",
          "height": 206
        }
      },
      "source": [
        "\n",
        "new_df = pd.concat([new_df1,new_df2], axis=1)\n",
        "new_df.head()"
      ],
      "execution_count": 0,
      "outputs": [
        {
          "output_type": "execute_result",
          "data": {
            "text/html": [
              "<div>\n",
              "<style scoped>\n",
              "    .dataframe tbody tr th:only-of-type {\n",
              "        vertical-align: middle;\n",
              "    }\n",
              "\n",
              "    .dataframe tbody tr th {\n",
              "        vertical-align: top;\n",
              "    }\n",
              "\n",
              "    .dataframe thead th {\n",
              "        text-align: right;\n",
              "    }\n",
              "</style>\n",
              "<table border=\"1\" class=\"dataframe\">\n",
              "  <thead>\n",
              "    <tr style=\"text-align: right;\">\n",
              "      <th></th>\n",
              "      <th>CS201</th>\n",
              "      <th>CH201</th>\n",
              "      <th>M201</th>\n",
              "      <th>ME201</th>\n",
              "      <th>ES201</th>\n",
              "      <th>CS291</th>\n",
              "      <th>CH291</th>\n",
              "      <th>ES291</th>\n",
              "      <th>ME291</th>\n",
              "      <th>group</th>\n",
              "    </tr>\n",
              "  </thead>\n",
              "  <tbody>\n",
              "    <tr>\n",
              "      <th>0</th>\n",
              "      <td>24</td>\n",
              "      <td>24</td>\n",
              "      <td>20</td>\n",
              "      <td>24</td>\n",
              "      <td>24</td>\n",
              "      <td>16</td>\n",
              "      <td>16</td>\n",
              "      <td>16</td>\n",
              "      <td>24</td>\n",
              "      <td>0</td>\n",
              "    </tr>\n",
              "    <tr>\n",
              "      <th>1</th>\n",
              "      <td>24</td>\n",
              "      <td>24</td>\n",
              "      <td>24</td>\n",
              "      <td>32</td>\n",
              "      <td>28</td>\n",
              "      <td>16</td>\n",
              "      <td>18</td>\n",
              "      <td>16</td>\n",
              "      <td>24</td>\n",
              "      <td>0</td>\n",
              "    </tr>\n",
              "    <tr>\n",
              "      <th>2</th>\n",
              "      <td>28</td>\n",
              "      <td>20</td>\n",
              "      <td>20</td>\n",
              "      <td>24</td>\n",
              "      <td>24</td>\n",
              "      <td>16</td>\n",
              "      <td>18</td>\n",
              "      <td>16</td>\n",
              "      <td>24</td>\n",
              "      <td>0</td>\n",
              "    </tr>\n",
              "    <tr>\n",
              "      <th>3</th>\n",
              "      <td>20</td>\n",
              "      <td>24</td>\n",
              "      <td>20</td>\n",
              "      <td>28</td>\n",
              "      <td>24</td>\n",
              "      <td>16</td>\n",
              "      <td>16</td>\n",
              "      <td>16</td>\n",
              "      <td>24</td>\n",
              "      <td>0</td>\n",
              "    </tr>\n",
              "    <tr>\n",
              "      <th>4</th>\n",
              "      <td>24</td>\n",
              "      <td>24</td>\n",
              "      <td>20</td>\n",
              "      <td>32</td>\n",
              "      <td>28</td>\n",
              "      <td>18</td>\n",
              "      <td>16</td>\n",
              "      <td>16</td>\n",
              "      <td>24</td>\n",
              "      <td>0</td>\n",
              "    </tr>\n",
              "  </tbody>\n",
              "</table>\n",
              "</div>"
            ],
            "text/plain": [
              "   CS201  CH201  M201  ME201  ES201  CS291  CH291  ES291  ME291  group\n",
              "0     24     24    20     24     24     16     16     16     24      0\n",
              "1     24     24    24     32     28     16     18     16     24      0\n",
              "2     28     20    20     24     24     16     18     16     24      0\n",
              "3     20     24    20     28     24     16     16     16     24      0\n",
              "4     24     24    20     32     28     18     16     16     24      0"
            ]
          },
          "metadata": {
            "tags": []
          },
          "execution_count": 44
        }
      ]
    },
    {
      "cell_type": "code",
      "metadata": {
        "id": "O3p2lYkKoriA",
        "colab_type": "code",
        "outputId": "72575be0-be50-4f78-be09-d532cbac4d40",
        "colab": {
          "base_uri": "https://localhost:8080/",
          "height": 206
        }
      },
      "source": [
        "df1 = new_df[0:53]\n",
        "\n",
        "df1.tail()\n",
        "df2 = new_df[53:124]\n",
        "df2.tail(2)\n",
        "df3 = new_df[124:192]\n",
        "df3.tail(2)\n",
        "df4 = new_df[192:]\n",
        "df4.head()"
      ],
      "execution_count": 0,
      "outputs": [
        {
          "output_type": "execute_result",
          "data": {
            "text/html": [
              "<div>\n",
              "<style scoped>\n",
              "    .dataframe tbody tr th:only-of-type {\n",
              "        vertical-align: middle;\n",
              "    }\n",
              "\n",
              "    .dataframe tbody tr th {\n",
              "        vertical-align: top;\n",
              "    }\n",
              "\n",
              "    .dataframe thead th {\n",
              "        text-align: right;\n",
              "    }\n",
              "</style>\n",
              "<table border=\"1\" class=\"dataframe\">\n",
              "  <thead>\n",
              "    <tr style=\"text-align: right;\">\n",
              "      <th></th>\n",
              "      <th>CS201</th>\n",
              "      <th>CH201</th>\n",
              "      <th>M201</th>\n",
              "      <th>ME201</th>\n",
              "      <th>ES201</th>\n",
              "      <th>CS291</th>\n",
              "      <th>CH291</th>\n",
              "      <th>ES291</th>\n",
              "      <th>ME291</th>\n",
              "      <th>group</th>\n",
              "    </tr>\n",
              "  </thead>\n",
              "  <tbody>\n",
              "    <tr>\n",
              "      <th>192</th>\n",
              "      <td>28</td>\n",
              "      <td>28</td>\n",
              "      <td>24</td>\n",
              "      <td>28</td>\n",
              "      <td>28</td>\n",
              "      <td>18</td>\n",
              "      <td>20</td>\n",
              "      <td>16</td>\n",
              "      <td>30</td>\n",
              "      <td>3</td>\n",
              "    </tr>\n",
              "    <tr>\n",
              "      <th>193</th>\n",
              "      <td>28</td>\n",
              "      <td>24</td>\n",
              "      <td>24</td>\n",
              "      <td>28</td>\n",
              "      <td>24</td>\n",
              "      <td>18</td>\n",
              "      <td>20</td>\n",
              "      <td>18</td>\n",
              "      <td>30</td>\n",
              "      <td>3</td>\n",
              "    </tr>\n",
              "    <tr>\n",
              "      <th>194</th>\n",
              "      <td>20</td>\n",
              "      <td>24</td>\n",
              "      <td>20</td>\n",
              "      <td>32</td>\n",
              "      <td>24</td>\n",
              "      <td>18</td>\n",
              "      <td>18</td>\n",
              "      <td>18</td>\n",
              "      <td>24</td>\n",
              "      <td>3</td>\n",
              "    </tr>\n",
              "    <tr>\n",
              "      <th>195</th>\n",
              "      <td>20</td>\n",
              "      <td>28</td>\n",
              "      <td>32</td>\n",
              "      <td>32</td>\n",
              "      <td>28</td>\n",
              "      <td>18</td>\n",
              "      <td>18</td>\n",
              "      <td>16</td>\n",
              "      <td>24</td>\n",
              "      <td>3</td>\n",
              "    </tr>\n",
              "    <tr>\n",
              "      <th>196</th>\n",
              "      <td>24</td>\n",
              "      <td>28</td>\n",
              "      <td>24</td>\n",
              "      <td>28</td>\n",
              "      <td>24</td>\n",
              "      <td>20</td>\n",
              "      <td>18</td>\n",
              "      <td>20</td>\n",
              "      <td>24</td>\n",
              "      <td>3</td>\n",
              "    </tr>\n",
              "  </tbody>\n",
              "</table>\n",
              "</div>"
            ],
            "text/plain": [
              "     CS201  CH201  M201  ME201  ES201  CS291  CH291  ES291  ME291  group\n",
              "192     28     28    24     28     28     18     20     16     30      3\n",
              "193     28     24    24     28     24     18     20     18     30      3\n",
              "194     20     24    20     32     24     18     18     18     24      3\n",
              "195     20     28    32     32     28     18     18     16     24      3\n",
              "196     24     28    24     28     24     20     18     20     24      3"
            ]
          },
          "metadata": {
            "tags": []
          },
          "execution_count": 45
        }
      ]
    },
    {
      "cell_type": "code",
      "metadata": {
        "id": "Xhwfamytz8Vx",
        "colab_type": "code",
        "colab": {}
      },
      "source": [
        "def plotting(j): # j will be a dataframe\n",
        "  \n",
        "  l_d = [] # list for storing no. of student score more than mean\n",
        "  d_l = [] # list for storing no. of student score more than mean\n",
        "  fea_imp = ['CS201','ME201','ES201']\n",
        "  for i in fea_imp:\n",
        "    d_l.append(j[j[i] > np.mean(j[i])][i].count())\n",
        "  \n",
        "# no. of students below mean score\n",
        "\n",
        "  fea_imp = ['CS201','ME201','ES201']\n",
        "  for i in fea_imp:\n",
        "    l_d.append(j[j[i] < np.mean(j[i])][i].count())\n",
        "\n",
        "#plotting double bar graph\n",
        "\n",
        "  n_group = 3\n",
        "\n",
        "#create plot\n",
        "  fig, ax = plt.subplots()\n",
        "  index = np.arange(n_group)\n",
        "  bar_width = 0.35\n",
        "  opacity = 0.8\n",
        "\n",
        "  plt.bar(index, d_l, bar_width,\n",
        "  alpha=opacity,\n",
        "  color='g',\n",
        "  label='above mean')\n",
        "\n",
        "  plt.bar(index + bar_width, l_d, bar_width,\n",
        "  alpha=opacity,\n",
        "  color='r',\n",
        "  label='below mean')\n",
        "\n",
        "  plt.title(\"No. of students VS Subjects\")\n",
        "  plt.xlabel(\"subjects------>\")\n",
        "  plt.ylabel(\"no. of students---->\")\n",
        "\n",
        "  plt.xticks(index + bar_width, ('CS201', 'ME201', 'ES201'))\n",
        "  plt.legend()\n",
        "\n",
        "  plt.tight_layout()\n",
        "\n",
        "  plt.figure(figsize=(10,16))\n",
        "\n",
        "  plt.show()"
      ],
      "execution_count": 0,
      "outputs": []
    },
    {
      "cell_type": "code",
      "metadata": {
        "id": "-KvccC_gyKH-",
        "colab_type": "code",
        "outputId": "64b60470-3c81-4d0a-829f-e9a86c42509a",
        "colab": {
          "base_uri": "https://localhost:8080/",
          "height": 1000
        }
      },
      "source": [
        "d = [df1,df2,df3,df4]\n",
        "\n",
        "for i,j in enumerate(d):\n",
        "  print(\"LABEL: \",i,plotting(j))"
      ],
      "execution_count": 0,
      "outputs": [
        {
          "output_type": "display_data",
          "data": {
            "image/png": "[encoded data removed]",
            "text/plain": [
              "<Figure size 432x288 with 1 Axes>"
            ]
          },
          "metadata": {
            "tags": []
          }
        },
        {
          "output_type": "display_data",
          "data": {
            "text/plain": [
              "<Figure size 720x1152 with 0 Axes>"
            ]
          },
          "metadata": {
            "tags": []
          }
        },
        {
          "output_type": "stream",
          "text": [
            "LABEL:  0 None\n"
          ],
          "name": "stdout"
        },
        {
          "output_type": "display_data",
          "data": {
            "image/png": "[encoded data removed]",
            "text/plain": [
              "<Figure size 432x288 with 1 Axes>"
            ]
          },
          "metadata": {
            "tags": []
          }
        },
        {
          "output_type": "display_data",
          "data": {
            "text/plain": [
              "<Figure size 720x1152 with 0 Axes>"
            ]
          },
          "metadata": {
            "tags": []
          }
        },
        {
          "output_type": "stream",
          "text": [
            "LABEL:  1 None\n"
          ],
          "name": "stdout"
        },
        {
          "output_type": "display_data",
          "data": {
            "image/png": "[encoded data removed]",
            "text/plain": [
              "<Figure size 432x288 with 1 Axes>"
            ]
          },
          "metadata": {
            "tags": []
          }
        },
        {
          "output_type": "display_data",
          "data": {
            "text/plain": [
              "<Figure size 720x1152 with 0 Axes>"
            ]
          },
          "metadata": {
            "tags": []
          }
        },
        {
          "output_type": "stream",
          "text": [
            "LABEL:  2 None\n"
          ],
          "name": "stdout"
        },
        {
          "output_type": "display_data",
          "data": {
            "image/png": "[encoded data removed]",
            "text/plain": [
              "<Figure size 432x288 with 1 Axes>"
            ]
          },
          "metadata": {
            "tags": []
          }
        },
        {
          "output_type": "display_data",
          "data": {
            "text/plain": [
              "<Figure size 720x1152 with 0 Axes>"
            ]
          },
          "metadata": {
            "tags": []
          }
        },
        {
          "output_type": "stream",
          "text": [
            "LABEL:  3 None\n"
          ],
          "name": "stdout"
        }
      ]
    },
    {
      "cell_type": "markdown",
      "metadata": {
        "id": "WCfrytkByZsv",
        "colab_type": "text"
      },
      "source": [
        "### Result Observation\n",
        "\n"
      ]
    },
    {
      "cell_type": "markdown",
      "metadata": {
        "id": "R2Eko5A0yoT3",
        "colab_type": "text"
      },
      "source": [
        "From the "
      ]
    },
    {
      "cell_type": "code",
      "metadata": {
        "id": "qw_pV47hymy3",
        "colab_type": "code",
        "colab": {}
      },
      "source": [
        ""
      ],
      "execution_count": 0,
      "outputs": []
    }
  ]
}